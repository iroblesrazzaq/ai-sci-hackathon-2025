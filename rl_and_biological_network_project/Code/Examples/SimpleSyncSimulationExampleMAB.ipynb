{
 "cells": [
  {
   "cell_type": "markdown",
   "id": "2548fafd",
   "metadata": {},
   "source": [
    "# TESTING WITH MULTI ARMED BANDIT"
   ]
  },
  {
   "cell_type": "markdown",
   "id": "d7029876-da98-42b6-a393-2317db517ac6",
   "metadata": {},
   "source": [
    "This jupyter gives you a simple example of how you should use the Simulated Network (asynchronous) environment. This environment is not meant as a training ground of your algorithms, but only to check whether or not your algorithm can be executed and if it is fast enough to create a response in time. (Set stim_period = 100 to be sure)."
   ]
  },
  {
   "cell_type": "code",
   "execution_count": 1,
   "id": "92edcf65-93c1-4396-90d0-4572ec09c2f4",
   "metadata": {},
   "outputs": [],
   "source": [
    "import gymnasium as gym\n",
    "import numpy as np\n",
    "\n",
    "# Add parent directory to path\n",
    "import sys\n",
    "from pathlib import Path\n",
    "current_dir = Path().resolve()\n",
    "root_dir = current_dir.parent\n",
    "if str(root_dir) not in sys.path:\n",
    "    sys.path.insert(0,str(root_dir))\n",
    "\n",
    "from Gyms.SimulatedNetworkSync import SimulatedNetworkSync\n",
    "\n",
    "from Reward.TrainingReward import TrainingReward"
   ]
  },
  {
   "cell_type": "code",
   "execution_count": 2,
   "id": "e7a528d5-af3f-4c5b-9bef-0fe0022a21cc",
   "metadata": {},
   "outputs": [],
   "source": [
    "# Define size of state and action spaces, as well as stimulation period\n",
    "state_dim   = 4   # Dimension of reduced state space\n",
    "action_dim  = 5   # Number of stimuli in action space. Must be less or equal to 5 (each stimulus needs a value of {0,1,2,3,4}\n",
    "stim_period = 250 # stimulation period, meaning that an action is applied every {stim_period} ms"
   ]
  },
  {
   "cell_type": "code",
   "execution_count": 3,
   "id": "d5373dba-d31c-4f31-9906-6db506053bd5",
   "metadata": {},
   "outputs": [
    {
     "name": "stdout",
     "output_type": "stream",
     "text": [
      "Current state: [0. 0. 0. 0.], Reward: 0\n"
     ]
    }
   ],
   "source": [
    "# Create environment and initialize it\n",
    "env      = SimulatedNetworkSync(action_dim=action_dim,state_dim=state_dim,stim_period=stim_period)\n",
    "state, _ = env.reset()\n",
    "env.render() # This function gives you the current state + reward, which both is 0 after initialization"
   ]
  },
  {
   "cell_type": "code",
   "execution_count": 4,
   "id": "b717cfb4",
   "metadata": {},
   "outputs": [],
   "source": [
    "from Algorithms.MultiArmedBandit import MABAgent, MAB_STRATEGIES  # Update path if needed\n",
    "\n",
    "# Initialize MAB agent\n",
    "agent = MABAgent(\n",
    "    epsilon=0.9,            # Initial exploration rate (90% random actions)\n",
    "    alpha=0.1,              # Learning rate (constant step-size)\n",
    "    initial_q=0.0,          # Optimistic initial values\n",
    "    n_actions=125,           # Number of actions, should be a power of 5\n",
    ")"
   ]
  },
  {
   "cell_type": "code",
   "execution_count": 5,
   "id": "e1a4cc22-d672-490f-93c6-d98b3ca82de0",
   "metadata": {
    "scrolled": true
   },
   "outputs": [
    {
     "name": "stdout",
     "output_type": "stream",
     "text": [
      "Stimulate with action: [0 0 0 0 4]\n",
      "Info: {'spikes': array([19.29614831, 19.9999    ]), 'elecs': array([3, 0]), 'action': array([0, 0, 0, 0, 4]), 'missed_cyc': 0, 'stim_id': 1, 'simulated': True, 'comment': 'none'}, reward: 0\n",
      "-----------------------------\n",
      "Step: 0, Action: [0 0 0 0 4], Reward: 0, Total reward: 0, Average reward: 0.0\n",
      "Stimulate with action: [0 0 0 0 0]\n",
      "Info: {'spikes': [], 'elecs': [], 'action': array([0, 0, 0, 0, 0]), 'missed_cyc': 0, 'stim_id': 2, 'simulated': True, 'comment': 'none'}, reward: 0\n",
      "-----------------------------\n",
      "Stimulate with action: [0 0 0 2 0]\n",
      "Info: {'spikes': array([17.44708465, 19.90770603]), 'elecs': array([1, 2]), 'action': array([0, 0, 0, 2, 0]), 'missed_cyc': 0, 'stim_id': 3, 'simulated': True, 'comment': 'none'}, reward: 0\n",
      "-----------------------------\n",
      "Stimulate with action: [0 0 0 1 0]\n",
      "Info: {'spikes': array([16.20684233, 19.9999    ]), 'elecs': array([0, 1]), 'action': array([0, 0, 0, 1, 0]), 'missed_cyc': 0, 'stim_id': 4, 'simulated': True, 'comment': 'none'}, reward: 0\n",
      "-----------------------------\n",
      "Stimulate with action: [0 0 0 2 4]\n",
      "Info: {'spikes': array([15.34162947, 18.75704615, 19.08471321, 19.9999    ]), 'elecs': array([1, 3, 2, 0]), 'action': array([0, 0, 0, 2, 4]), 'missed_cyc': 0, 'stim_id': 5, 'simulated': True, 'comment': 'none'}, reward: -1\n",
      "-----------------------------\n",
      "Stimulate with action: [0 0 0 4 1]\n",
      "Info: {'spikes': array([14.64451072, 15.56386053, 17.16474957, 19.9999    , 19.9999    ,\n",
      "       19.9999    ]), 'elecs': array([1, 3, 3, 0, 0, 1]), 'action': array([0, 0, 0, 4, 1]), 'missed_cyc': 0, 'stim_id': 6, 'simulated': True, 'comment': 'none'}, reward: 2\n",
      "-----------------------------\n",
      "Stimulate with action: [0 0 0 4 4]\n",
      "Info: {'spikes': array([16.30133076, 19.9999    , 19.9999    , 19.9999    ]), 'elecs': array([3, 0, 3, 0]), 'action': array([0, 0, 0, 4, 4]), 'missed_cyc': 0, 'stim_id': 7, 'simulated': True, 'comment': 'none'}, reward: 0\n",
      "-----------------------------\n",
      "Stimulate with action: [0 0 0 2 4]\n",
      "Info: {'spikes': array([16.14957714, 19.82802186, 19.9999    , 19.9999    ]), 'elecs': array([1, 3, 2, 0]), 'action': array([0, 0, 0, 2, 4]), 'missed_cyc': 0, 'stim_id': 8, 'simulated': True, 'comment': 'none'}, reward: -1\n",
      "-----------------------------\n",
      "Stimulate with action: [0 0 0 0 3]\n",
      "Info: {'spikes': array([19.9999, 19.9999]), 'elecs': array([2, 3]), 'action': array([0, 0, 0, 0, 3]), 'missed_cyc': 0, 'stim_id': 9, 'simulated': True, 'comment': 'none'}, reward: 0\n",
      "-----------------------------\n",
      "Stimulate with action: [0 0 0 2 0]\n",
      "Info: {'spikes': array([16.61826835, 19.0206222 ]), 'elecs': array([1, 2]), 'action': array([0, 0, 0, 2, 0]), 'missed_cyc': 0, 'stim_id': 10, 'simulated': True, 'comment': 'none'}, reward: 0\n",
      "-----------------------------\n"
     ]
    }
   ],
   "source": [
    "# Example code, that stimulates the network 10_000 times with a randomly sampled action, while calculating also the average reward received\n",
    "\n",
    "total_reward = 0\n",
    "action_count = 0\n",
    "\n",
    "rewards_over_time = []\n",
    "\n",
    "for _ in range(10):\n",
    "    # For simplicity, choose a random action\n",
    "    action_idx = agent.select_action()\n",
    "    action = agent.action_map(action_idx)\n",
    "    print(f\"Stimulate with action: {action}\")\n",
    "    \n",
    "    state, reward, terminated, truncated, info = env.step(action)\n",
    "    total_reward += reward\n",
    "    action_count += 1\n",
    "\n",
    "    rewards_over_time.append(reward)\n",
    "\n",
    "    agent.update(action_idx, reward)\n",
    "\n",
    "    # Plot information\n",
    "    print(f\"Info: {info}, reward: {reward}\")\n",
    "\n",
    "    print(\"-----------------------------\")\n",
    "\n",
    "    if _ % 100 == 0:\n",
    "        print(f\"Step: {_}, Action: {action}, Reward: {reward}, Total reward: {total_reward}, Average reward: {total_reward/action_count}\")"
   ]
  },
  {
   "cell_type": "code",
   "execution_count": 6,
   "id": "0e0d7556",
   "metadata": {},
   "outputs": [
    {
     "data": {
      "image/png": "[encoded data removed]",
      "text/plain": [
       "<Figure size 640x480 with 1 Axes>"
      ]
     },
     "metadata": {},
     "output_type": "display_data"
    }
   ],
   "source": [
    "import matplotlib.pyplot as plt\n",
    "\n",
    "plt.plot(rewards_over_time)\n",
    "plt.xlabel('Step')\n",
    "plt.ylabel('Reward')\n",
    "plt.title('Reward Over Time')\n",
    "plt.show()"
   ]
  },
  {
   "cell_type": "code",
   "execution_count": 7,
   "id": "0e01d04d-21a2-4760-9f81-7bfe2884a916",
   "metadata": {},
   "outputs": [
    {
     "name": "stdout",
     "output_type": "stream",
     "text": [
      "Average reward: 0.0\n"
     ]
    }
   ],
   "source": [
    "print(f\"Average reward: {total_reward/action_count}\")"
   ]
  }
 ],
 "metadata": {
  "kernelspec": {
   "display_name": "venv",
   "language": "python",
   "name": "python3"
  },
  "language_info": {
   "codemirror_mode": {
    "name": "ipython",
    "version": 3
   },
   "file_extension": ".py",
   "mimetype": "text/x-python",
   "name": "python",
   "nbconvert_exporter": "python",
   "pygments_lexer": "ipython3",
   "version": "3.11.11"
  }
 },
 "nbformat": 4,
 "nbformat_minor": 5
}
